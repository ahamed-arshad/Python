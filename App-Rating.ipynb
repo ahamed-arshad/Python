{
 "cells": [
  {
   "cell_type": "markdown",
   "id": "8d7e3cd3",
   "metadata": {},
   "source": [
    "# EDA & Data Preprocessing on Google App Store Rating Dataset"
   ]
  },
  {
   "cell_type": "markdown",
   "id": "3ac6d526",
   "metadata": {},
   "source": [
    "## Domain: Mobile Device App"
   ]
  },
  {
   "cell_type": "markdown",
   "id": "367afbb7",
   "metadata": {},
   "source": [
    "### Question 1: Import required libraries and read the dataset?"
   ]
  },
  {
   "cell_type": "code",
   "execution_count": 1,
   "id": "4a035bdf",
   "metadata": {},
   "outputs": [],
   "source": [
    "import numpy as np\n",
    "import pandas as pd\n",
    "import seaborn as sns\n",
    "import matplotlib.pyplot as plt"
   ]
  },
  {
   "cell_type": "code",
   "execution_count": 2,
   "id": "47cad0bb",
   "metadata": {},
   "outputs": [],
   "source": [
    "df = pd.read_csv('C:/Users/MILAN/Downloads/Apps_data+(1).csv')"
   ]
  },
  {
   "cell_type": "markdown",
   "id": "8120a662",
   "metadata": {},
   "source": [
    "### Q2. Check the first few samples, shape, info of the data and try to familiarize yourself with different features."
   ]
  },
  {
   "cell_type": "code",
   "execution_count": 3,
   "id": "a2e2aef5",
   "metadata": {},
   "outputs": [
    {
     "data": {
      "text/html": [
       "<div>\n",
       "<style scoped>\n",
       "    .dataframe tbody tr th:only-of-type {\n",
       "        vertical-align: middle;\n",
       "    }\n",
       "\n",
       "    .dataframe tbody tr th {\n",
       "        vertical-align: top;\n",
       "    }\n",
       "\n",
       "    .dataframe thead th {\n",
       "        text-align: right;\n",
       "    }\n",
       "</style>\n",
       "<table border=\"1\" class=\"dataframe\">\n",
       "  <thead>\n",
       "    <tr style=\"text-align: right;\">\n",
       "      <th></th>\n",
       "      <th>App</th>\n",
       "      <th>Category</th>\n",
       "      <th>Rating</th>\n",
       "      <th>Reviews</th>\n",
       "      <th>Size</th>\n",
       "      <th>Installs</th>\n",
       "      <th>Type</th>\n",
       "      <th>Price</th>\n",
       "      <th>Content Rating</th>\n",
       "      <th>Genres</th>\n",
       "      <th>Last Updated</th>\n",
       "      <th>Current Ver</th>\n",
       "      <th>Android Ver</th>\n",
       "    </tr>\n",
       "  </thead>\n",
       "  <tbody>\n",
       "    <tr>\n",
       "      <th>0</th>\n",
       "      <td>Photo Editor &amp; Candy Camera &amp; Grid &amp; ScrapBook</td>\n",
       "      <td>ART_AND_DESIGN</td>\n",
       "      <td>4.1</td>\n",
       "      <td>159</td>\n",
       "      <td>19M</td>\n",
       "      <td>10,000+</td>\n",
       "      <td>Free</td>\n",
       "      <td>0</td>\n",
       "      <td>Everyone</td>\n",
       "      <td>Art &amp; Design</td>\n",
       "      <td>January 7, 2018</td>\n",
       "      <td>1.0.0</td>\n",
       "      <td>4.0.3 and up</td>\n",
       "    </tr>\n",
       "    <tr>\n",
       "      <th>1</th>\n",
       "      <td>Coloring book moana</td>\n",
       "      <td>ART_AND_DESIGN</td>\n",
       "      <td>3.9</td>\n",
       "      <td>967</td>\n",
       "      <td>14M</td>\n",
       "      <td>500,000+</td>\n",
       "      <td>Free</td>\n",
       "      <td>0</td>\n",
       "      <td>Everyone</td>\n",
       "      <td>Art &amp; Design;Pretend Play</td>\n",
       "      <td>January 15, 2018</td>\n",
       "      <td>2.0.0</td>\n",
       "      <td>4.0.3 and up</td>\n",
       "    </tr>\n",
       "    <tr>\n",
       "      <th>2</th>\n",
       "      <td>U Launcher Lite – FREE Live Cool Themes, Hide ...</td>\n",
       "      <td>ART_AND_DESIGN</td>\n",
       "      <td>4.7</td>\n",
       "      <td>87510</td>\n",
       "      <td>8.7M</td>\n",
       "      <td>5,000,000+</td>\n",
       "      <td>Free</td>\n",
       "      <td>0</td>\n",
       "      <td>Everyone</td>\n",
       "      <td>Art &amp; Design</td>\n",
       "      <td>August 1, 2018</td>\n",
       "      <td>1.2.4</td>\n",
       "      <td>4.0.3 and up</td>\n",
       "    </tr>\n",
       "    <tr>\n",
       "      <th>3</th>\n",
       "      <td>Sketch - Draw &amp; Paint</td>\n",
       "      <td>ART_AND_DESIGN</td>\n",
       "      <td>4.5</td>\n",
       "      <td>215644</td>\n",
       "      <td>25M</td>\n",
       "      <td>50,000,000+</td>\n",
       "      <td>Free</td>\n",
       "      <td>0</td>\n",
       "      <td>Teen</td>\n",
       "      <td>Art &amp; Design</td>\n",
       "      <td>June 8, 2018</td>\n",
       "      <td>Varies with device</td>\n",
       "      <td>4.2 and up</td>\n",
       "    </tr>\n",
       "    <tr>\n",
       "      <th>4</th>\n",
       "      <td>Pixel Draw - Number Art Coloring Book</td>\n",
       "      <td>ART_AND_DESIGN</td>\n",
       "      <td>4.3</td>\n",
       "      <td>967</td>\n",
       "      <td>2.8M</td>\n",
       "      <td>100,000+</td>\n",
       "      <td>Free</td>\n",
       "      <td>0</td>\n",
       "      <td>Everyone</td>\n",
       "      <td>Art &amp; Design;Creativity</td>\n",
       "      <td>June 20, 2018</td>\n",
       "      <td>1.1</td>\n",
       "      <td>4.4 and up</td>\n",
       "    </tr>\n",
       "  </tbody>\n",
       "</table>\n",
       "</div>"
      ],
      "text/plain": [
       "                                                 App        Category  Rating  \\\n",
       "0     Photo Editor & Candy Camera & Grid & ScrapBook  ART_AND_DESIGN     4.1   \n",
       "1                                Coloring book moana  ART_AND_DESIGN     3.9   \n",
       "2  U Launcher Lite – FREE Live Cool Themes, Hide ...  ART_AND_DESIGN     4.7   \n",
       "3                              Sketch - Draw & Paint  ART_AND_DESIGN     4.5   \n",
       "4              Pixel Draw - Number Art Coloring Book  ART_AND_DESIGN     4.3   \n",
       "\n",
       "  Reviews  Size     Installs  Type Price Content Rating  \\\n",
       "0     159   19M      10,000+  Free     0       Everyone   \n",
       "1     967   14M     500,000+  Free     0       Everyone   \n",
       "2   87510  8.7M   5,000,000+  Free     0       Everyone   \n",
       "3  215644   25M  50,000,000+  Free     0           Teen   \n",
       "4     967  2.8M     100,000+  Free     0       Everyone   \n",
       "\n",
       "                      Genres      Last Updated         Current Ver  \\\n",
       "0               Art & Design   January 7, 2018               1.0.0   \n",
       "1  Art & Design;Pretend Play  January 15, 2018               2.0.0   \n",
       "2               Art & Design    August 1, 2018               1.2.4   \n",
       "3               Art & Design      June 8, 2018  Varies with device   \n",
       "4    Art & Design;Creativity     June 20, 2018                 1.1   \n",
       "\n",
       "    Android Ver  \n",
       "0  4.0.3 and up  \n",
       "1  4.0.3 and up  \n",
       "2  4.0.3 and up  \n",
       "3    4.2 and up  \n",
       "4    4.4 and up  "
      ]
     },
     "execution_count": 3,
     "metadata": {},
     "output_type": "execute_result"
    }
   ],
   "source": [
    "df.head()"
   ]
  },
  {
   "cell_type": "code",
   "execution_count": 4,
   "id": "66caf699",
   "metadata": {},
   "outputs": [
    {
     "data": {
      "text/html": [
       "<div>\n",
       "<style scoped>\n",
       "    .dataframe tbody tr th:only-of-type {\n",
       "        vertical-align: middle;\n",
       "    }\n",
       "\n",
       "    .dataframe tbody tr th {\n",
       "        vertical-align: top;\n",
       "    }\n",
       "\n",
       "    .dataframe thead th {\n",
       "        text-align: right;\n",
       "    }\n",
       "</style>\n",
       "<table border=\"1\" class=\"dataframe\">\n",
       "  <thead>\n",
       "    <tr style=\"text-align: right;\">\n",
       "      <th></th>\n",
       "      <th>App</th>\n",
       "      <th>Category</th>\n",
       "      <th>Rating</th>\n",
       "      <th>Reviews</th>\n",
       "      <th>Size</th>\n",
       "      <th>Installs</th>\n",
       "      <th>Type</th>\n",
       "      <th>Price</th>\n",
       "      <th>Content Rating</th>\n",
       "      <th>Genres</th>\n",
       "      <th>Last Updated</th>\n",
       "      <th>Current Ver</th>\n",
       "      <th>Android Ver</th>\n",
       "    </tr>\n",
       "  </thead>\n",
       "  <tbody>\n",
       "    <tr>\n",
       "      <th>10836</th>\n",
       "      <td>Sya9a Maroc - FR</td>\n",
       "      <td>FAMILY</td>\n",
       "      <td>4.5</td>\n",
       "      <td>38</td>\n",
       "      <td>53M</td>\n",
       "      <td>5,000+</td>\n",
       "      <td>Free</td>\n",
       "      <td>0</td>\n",
       "      <td>Everyone</td>\n",
       "      <td>Education</td>\n",
       "      <td>July 25, 2017</td>\n",
       "      <td>1.48</td>\n",
       "      <td>4.1 and up</td>\n",
       "    </tr>\n",
       "    <tr>\n",
       "      <th>10837</th>\n",
       "      <td>Fr. Mike Schmitz Audio Teachings</td>\n",
       "      <td>FAMILY</td>\n",
       "      <td>5.0</td>\n",
       "      <td>4</td>\n",
       "      <td>3.6M</td>\n",
       "      <td>100+</td>\n",
       "      <td>Free</td>\n",
       "      <td>0</td>\n",
       "      <td>Everyone</td>\n",
       "      <td>Education</td>\n",
       "      <td>July 6, 2018</td>\n",
       "      <td>1.0</td>\n",
       "      <td>4.1 and up</td>\n",
       "    </tr>\n",
       "    <tr>\n",
       "      <th>10838</th>\n",
       "      <td>Parkinson Exercices FR</td>\n",
       "      <td>MEDICAL</td>\n",
       "      <td>NaN</td>\n",
       "      <td>3</td>\n",
       "      <td>9.5M</td>\n",
       "      <td>1,000+</td>\n",
       "      <td>Free</td>\n",
       "      <td>0</td>\n",
       "      <td>Everyone</td>\n",
       "      <td>Medical</td>\n",
       "      <td>January 20, 2017</td>\n",
       "      <td>1.0</td>\n",
       "      <td>2.2 and up</td>\n",
       "    </tr>\n",
       "    <tr>\n",
       "      <th>10839</th>\n",
       "      <td>The SCP Foundation DB fr nn5n</td>\n",
       "      <td>BOOKS_AND_REFERENCE</td>\n",
       "      <td>4.5</td>\n",
       "      <td>114</td>\n",
       "      <td>Varies with device</td>\n",
       "      <td>1,000+</td>\n",
       "      <td>Free</td>\n",
       "      <td>0</td>\n",
       "      <td>Mature 17+</td>\n",
       "      <td>Books &amp; Reference</td>\n",
       "      <td>January 19, 2015</td>\n",
       "      <td>Varies with device</td>\n",
       "      <td>Varies with device</td>\n",
       "    </tr>\n",
       "    <tr>\n",
       "      <th>10840</th>\n",
       "      <td>iHoroscope - 2018 Daily Horoscope &amp; Astrology</td>\n",
       "      <td>LIFESTYLE</td>\n",
       "      <td>4.5</td>\n",
       "      <td>398307</td>\n",
       "      <td>19M</td>\n",
       "      <td>10,000,000+</td>\n",
       "      <td>Free</td>\n",
       "      <td>0</td>\n",
       "      <td>Everyone</td>\n",
       "      <td>Lifestyle</td>\n",
       "      <td>July 25, 2018</td>\n",
       "      <td>Varies with device</td>\n",
       "      <td>Varies with device</td>\n",
       "    </tr>\n",
       "  </tbody>\n",
       "</table>\n",
       "</div>"
      ],
      "text/plain": [
       "                                                 App             Category  \\\n",
       "10836                               Sya9a Maroc - FR               FAMILY   \n",
       "10837               Fr. Mike Schmitz Audio Teachings               FAMILY   \n",
       "10838                         Parkinson Exercices FR              MEDICAL   \n",
       "10839                  The SCP Foundation DB fr nn5n  BOOKS_AND_REFERENCE   \n",
       "10840  iHoroscope - 2018 Daily Horoscope & Astrology            LIFESTYLE   \n",
       "\n",
       "       Rating Reviews                Size     Installs  Type Price  \\\n",
       "10836     4.5      38                 53M       5,000+  Free     0   \n",
       "10837     5.0       4                3.6M         100+  Free     0   \n",
       "10838     NaN       3                9.5M       1,000+  Free     0   \n",
       "10839     4.5     114  Varies with device       1,000+  Free     0   \n",
       "10840     4.5  398307                 19M  10,000,000+  Free     0   \n",
       "\n",
       "      Content Rating             Genres      Last Updated         Current Ver  \\\n",
       "10836       Everyone          Education     July 25, 2017                1.48   \n",
       "10837       Everyone          Education      July 6, 2018                 1.0   \n",
       "10838       Everyone            Medical  January 20, 2017                 1.0   \n",
       "10839     Mature 17+  Books & Reference  January 19, 2015  Varies with device   \n",
       "10840       Everyone          Lifestyle     July 25, 2018  Varies with device   \n",
       "\n",
       "              Android Ver  \n",
       "10836          4.1 and up  \n",
       "10837          4.1 and up  \n",
       "10838          2.2 and up  \n",
       "10839  Varies with device  \n",
       "10840  Varies with device  "
      ]
     },
     "execution_count": 4,
     "metadata": {},
     "output_type": "execute_result"
    }
   ],
   "source": [
    "df.tail()"
   ]
  },
  {
   "cell_type": "code",
   "execution_count": 3,
   "id": "4f631b46",
   "metadata": {},
   "outputs": [
    {
     "name": "stdout",
     "output_type": "stream",
     "text": [
      "<class 'pandas.core.frame.DataFrame'>\n",
      "RangeIndex: 10841 entries, 0 to 10840\n",
      "Data columns (total 13 columns):\n",
      " #   Column          Non-Null Count  Dtype  \n",
      "---  ------          --------------  -----  \n",
      " 0   App             10841 non-null  object \n",
      " 1   Category        10841 non-null  object \n",
      " 2   Rating          9367 non-null   float64\n",
      " 3   Reviews         10841 non-null  object \n",
      " 4   Size            10841 non-null  object \n",
      " 5   Installs        10841 non-null  object \n",
      " 6   Type            10840 non-null  object \n",
      " 7   Price           10841 non-null  object \n",
      " 8   Content Rating  10840 non-null  object \n",
      " 9   Genres          10841 non-null  object \n",
      " 10  Last Updated    10841 non-null  object \n",
      " 11  Current Ver     10833 non-null  object \n",
      " 12  Android Ver     10838 non-null  object \n",
      "dtypes: float64(1), object(12)\n",
      "memory usage: 1.1+ MB\n"
     ]
    }
   ],
   "source": [
    "df.info()"
   ]
  },
  {
   "cell_type": "code",
   "execution_count": 6,
   "id": "4e46c5f8",
   "metadata": {},
   "outputs": [
    {
     "data": {
      "text/plain": [
       "(10841, 13)"
      ]
     },
     "execution_count": 6,
     "metadata": {},
     "output_type": "execute_result"
    }
   ],
   "source": [
    "df.shape"
   ]
  },
  {
   "cell_type": "markdown",
   "id": "a7ea3f8d",
   "metadata": {},
   "source": [
    "### Q3. Check summary statistics of the dataset. List out the columns that need to be worked upon for model building."
   ]
  },
  {
   "cell_type": "code",
   "execution_count": 66,
   "id": "d601b03f",
   "metadata": {},
   "outputs": [
    {
     "data": {
      "text/html": [
       "<div>\n",
       "<style scoped>\n",
       "    .dataframe tbody tr th:only-of-type {\n",
       "        vertical-align: middle;\n",
       "    }\n",
       "\n",
       "    .dataframe tbody tr th {\n",
       "        vertical-align: top;\n",
       "    }\n",
       "\n",
       "    .dataframe thead th {\n",
       "        text-align: right;\n",
       "    }\n",
       "</style>\n",
       "<table border=\"1\" class=\"dataframe\">\n",
       "  <thead>\n",
       "    <tr style=\"text-align: right;\">\n",
       "      <th></th>\n",
       "      <th>count</th>\n",
       "      <th>unique</th>\n",
       "      <th>top</th>\n",
       "      <th>freq</th>\n",
       "      <th>mean</th>\n",
       "      <th>std</th>\n",
       "      <th>min</th>\n",
       "      <th>25%</th>\n",
       "      <th>50%</th>\n",
       "      <th>75%</th>\n",
       "      <th>max</th>\n",
       "    </tr>\n",
       "  </thead>\n",
       "  <tbody>\n",
       "    <tr>\n",
       "      <th>App</th>\n",
       "      <td>9145</td>\n",
       "      <td>8434</td>\n",
       "      <td>ROBLOX</td>\n",
       "      <td>9</td>\n",
       "      <td>NaN</td>\n",
       "      <td>NaN</td>\n",
       "      <td>NaN</td>\n",
       "      <td>NaN</td>\n",
       "      <td>NaN</td>\n",
       "      <td>NaN</td>\n",
       "      <td>NaN</td>\n",
       "    </tr>\n",
       "    <tr>\n",
       "      <th>Category</th>\n",
       "      <td>9145</td>\n",
       "      <td>33</td>\n",
       "      <td>FAMILY</td>\n",
       "      <td>1832</td>\n",
       "      <td>NaN</td>\n",
       "      <td>NaN</td>\n",
       "      <td>NaN</td>\n",
       "      <td>NaN</td>\n",
       "      <td>NaN</td>\n",
       "      <td>NaN</td>\n",
       "      <td>NaN</td>\n",
       "    </tr>\n",
       "    <tr>\n",
       "      <th>Reviews</th>\n",
       "      <td>9145.0</td>\n",
       "      <td>NaN</td>\n",
       "      <td>NaN</td>\n",
       "      <td>NaN</td>\n",
       "      <td>-inf</td>\n",
       "      <td>NaN</td>\n",
       "      <td>-inf</td>\n",
       "      <td>3.091042</td>\n",
       "      <td>6.609349</td>\n",
       "      <td>10.12811</td>\n",
       "      <td>17.619812</td>\n",
       "    </tr>\n",
       "    <tr>\n",
       "      <th>Size</th>\n",
       "      <td>9145</td>\n",
       "      <td>460</td>\n",
       "      <td>11</td>\n",
       "      <td>198</td>\n",
       "      <td>NaN</td>\n",
       "      <td>NaN</td>\n",
       "      <td>NaN</td>\n",
       "      <td>NaN</td>\n",
       "      <td>NaN</td>\n",
       "      <td>NaN</td>\n",
       "      <td>NaN</td>\n",
       "    </tr>\n",
       "    <tr>\n",
       "      <th>Installs</th>\n",
       "      <td>9145.0</td>\n",
       "      <td>NaN</td>\n",
       "      <td>NaN</td>\n",
       "      <td>NaN</td>\n",
       "      <td>7114842.368945</td>\n",
       "      <td>46193566.323029</td>\n",
       "      <td>0.0</td>\n",
       "      <td>1000.0</td>\n",
       "      <td>100000.0</td>\n",
       "      <td>1000000.0</td>\n",
       "      <td>1000000000.0</td>\n",
       "    </tr>\n",
       "    <tr>\n",
       "      <th>Price</th>\n",
       "      <td>9145.0</td>\n",
       "      <td>NaN</td>\n",
       "      <td>NaN</td>\n",
       "      <td>NaN</td>\n",
       "      <td>1.184366</td>\n",
       "      <td>17.355754</td>\n",
       "      <td>0.0</td>\n",
       "      <td>0.0</td>\n",
       "      <td>0.0</td>\n",
       "      <td>0.0</td>\n",
       "      <td>400.0</td>\n",
       "    </tr>\n",
       "    <tr>\n",
       "      <th>Genres</th>\n",
       "      <td>9145</td>\n",
       "      <td>116</td>\n",
       "      <td>Tools</td>\n",
       "      <td>739</td>\n",
       "      <td>NaN</td>\n",
       "      <td>NaN</td>\n",
       "      <td>NaN</td>\n",
       "      <td>NaN</td>\n",
       "      <td>NaN</td>\n",
       "      <td>NaN</td>\n",
       "      <td>NaN</td>\n",
       "    </tr>\n",
       "    <tr>\n",
       "      <th>Rating_Category</th>\n",
       "      <td>9145</td>\n",
       "      <td>2</td>\n",
       "      <td>High</td>\n",
       "      <td>6889</td>\n",
       "      <td>NaN</td>\n",
       "      <td>NaN</td>\n",
       "      <td>NaN</td>\n",
       "      <td>NaN</td>\n",
       "      <td>NaN</td>\n",
       "      <td>NaN</td>\n",
       "      <td>NaN</td>\n",
       "    </tr>\n",
       "    <tr>\n",
       "      <th>Content Rating_Adults only 18+</th>\n",
       "      <td>9145.0</td>\n",
       "      <td>NaN</td>\n",
       "      <td>NaN</td>\n",
       "      <td>NaN</td>\n",
       "      <td>0.000219</td>\n",
       "      <td>0.014788</td>\n",
       "      <td>0.0</td>\n",
       "      <td>0.0</td>\n",
       "      <td>0.0</td>\n",
       "      <td>0.0</td>\n",
       "      <td>1.0</td>\n",
       "    </tr>\n",
       "    <tr>\n",
       "      <th>Content Rating_Everyone</th>\n",
       "      <td>9145.0</td>\n",
       "      <td>NaN</td>\n",
       "      <td>NaN</td>\n",
       "      <td>NaN</td>\n",
       "      <td>0.810935</td>\n",
       "      <td>0.391582</td>\n",
       "      <td>0.0</td>\n",
       "      <td>1.0</td>\n",
       "      <td>1.0</td>\n",
       "      <td>1.0</td>\n",
       "      <td>1.0</td>\n",
       "    </tr>\n",
       "    <tr>\n",
       "      <th>Content Rating_Everyone 10+</th>\n",
       "      <td>9145.0</td>\n",
       "      <td>NaN</td>\n",
       "      <td>NaN</td>\n",
       "      <td>NaN</td>\n",
       "      <td>0.036304</td>\n",
       "      <td>0.187056</td>\n",
       "      <td>0.0</td>\n",
       "      <td>0.0</td>\n",
       "      <td>0.0</td>\n",
       "      <td>0.0</td>\n",
       "      <td>1.0</td>\n",
       "    </tr>\n",
       "    <tr>\n",
       "      <th>Content Rating_Mature 17+</th>\n",
       "      <td>9145.0</td>\n",
       "      <td>NaN</td>\n",
       "      <td>NaN</td>\n",
       "      <td>NaN</td>\n",
       "      <td>0.044396</td>\n",
       "      <td>0.205984</td>\n",
       "      <td>0.0</td>\n",
       "      <td>0.0</td>\n",
       "      <td>0.0</td>\n",
       "      <td>0.0</td>\n",
       "      <td>1.0</td>\n",
       "    </tr>\n",
       "    <tr>\n",
       "      <th>Content Rating_Teen</th>\n",
       "      <td>9145.0</td>\n",
       "      <td>NaN</td>\n",
       "      <td>NaN</td>\n",
       "      <td>NaN</td>\n",
       "      <td>0.107928</td>\n",
       "      <td>0.310306</td>\n",
       "      <td>0.0</td>\n",
       "      <td>0.0</td>\n",
       "      <td>0.0</td>\n",
       "      <td>0.0</td>\n",
       "      <td>1.0</td>\n",
       "    </tr>\n",
       "    <tr>\n",
       "      <th>Type_Free</th>\n",
       "      <td>9145.0</td>\n",
       "      <td>NaN</td>\n",
       "      <td>NaN</td>\n",
       "      <td>NaN</td>\n",
       "      <td>0.920831</td>\n",
       "      <td>0.270017</td>\n",
       "      <td>0.0</td>\n",
       "      <td>1.0</td>\n",
       "      <td>1.0</td>\n",
       "      <td>1.0</td>\n",
       "      <td>1.0</td>\n",
       "    </tr>\n",
       "  </tbody>\n",
       "</table>\n",
       "</div>"
      ],
      "text/plain": [
       "                                 count unique     top  freq            mean  \\\n",
       "App                               9145   8434  ROBLOX     9             NaN   \n",
       "Category                          9145     33  FAMILY  1832             NaN   \n",
       "Reviews                         9145.0    NaN     NaN   NaN            -inf   \n",
       "Size                              9145    460      11   198             NaN   \n",
       "Installs                        9145.0    NaN     NaN   NaN  7114842.368945   \n",
       "Price                           9145.0    NaN     NaN   NaN        1.184366   \n",
       "Genres                            9145    116   Tools   739             NaN   \n",
       "Rating_Category                   9145      2    High  6889             NaN   \n",
       "Content Rating_Adults only 18+  9145.0    NaN     NaN   NaN        0.000219   \n",
       "Content Rating_Everyone         9145.0    NaN     NaN   NaN        0.810935   \n",
       "Content Rating_Everyone 10+     9145.0    NaN     NaN   NaN        0.036304   \n",
       "Content Rating_Mature 17+       9145.0    NaN     NaN   NaN        0.044396   \n",
       "Content Rating_Teen             9145.0    NaN     NaN   NaN        0.107928   \n",
       "Type_Free                       9145.0    NaN     NaN   NaN        0.920831   \n",
       "\n",
       "                                            std  min       25%       50%  \\\n",
       "App                                         NaN  NaN       NaN       NaN   \n",
       "Category                                    NaN  NaN       NaN       NaN   \n",
       "Reviews                                     NaN -inf  3.091042  6.609349   \n",
       "Size                                        NaN  NaN       NaN       NaN   \n",
       "Installs                        46193566.323029  0.0    1000.0  100000.0   \n",
       "Price                                 17.355754  0.0       0.0       0.0   \n",
       "Genres                                      NaN  NaN       NaN       NaN   \n",
       "Rating_Category                             NaN  NaN       NaN       NaN   \n",
       "Content Rating_Adults only 18+         0.014788  0.0       0.0       0.0   \n",
       "Content Rating_Everyone                0.391582  0.0       1.0       1.0   \n",
       "Content Rating_Everyone 10+            0.187056  0.0       0.0       0.0   \n",
       "Content Rating_Mature 17+              0.205984  0.0       0.0       0.0   \n",
       "Content Rating_Teen                    0.310306  0.0       0.0       0.0   \n",
       "Type_Free                              0.270017  0.0       1.0       1.0   \n",
       "\n",
       "                                      75%           max  \n",
       "App                                   NaN           NaN  \n",
       "Category                              NaN           NaN  \n",
       "Reviews                          10.12811     17.619812  \n",
       "Size                                  NaN           NaN  \n",
       "Installs                        1000000.0  1000000000.0  \n",
       "Price                                 0.0         400.0  \n",
       "Genres                                NaN           NaN  \n",
       "Rating_Category                       NaN           NaN  \n",
       "Content Rating_Adults only 18+        0.0           1.0  \n",
       "Content Rating_Everyone               1.0           1.0  \n",
       "Content Rating_Everyone 10+           0.0           1.0  \n",
       "Content Rating_Mature 17+             0.0           1.0  \n",
       "Content Rating_Teen                   0.0           1.0  \n",
       "Type_Free                             1.0           1.0  "
      ]
     },
     "execution_count": 66,
     "metadata": {},
     "output_type": "execute_result"
    }
   ],
   "source": [
    "df.describe(include='all').T"
   ]
  },
  {
   "cell_type": "raw",
   "id": "5844f9ea",
   "metadata": {},
   "source": [
    "The only Numerical values from the above mentioned table is 'Rating'"
   ]
  },
  {
   "cell_type": "markdown",
   "id": "b3f37041",
   "metadata": {},
   "source": [
    "### Q4. Check if there are any duplicate records in the dataset? if any drop them."
   ]
  },
  {
   "cell_type": "code",
   "execution_count": 8,
   "id": "0c5347a3",
   "metadata": {},
   "outputs": [
    {
     "name": "stdout",
     "output_type": "stream",
     "text": [
      "                                                   App      Category  Rating  \\\n",
      "229                       Quick PDF Scanner + OCR FREE      BUSINESS     4.2   \n",
      "236                                                Box      BUSINESS     4.2   \n",
      "239                                 Google My Business      BUSINESS     4.4   \n",
      "256                                ZOOM Cloud Meetings      BUSINESS     4.4   \n",
      "261                          join.me - Simple Meetings      BUSINESS     4.0   \n",
      "...                                                ...           ...     ...   \n",
      "8643                    Wunderlist: To-Do List & Tasks  PRODUCTIVITY     4.6   \n",
      "8654   TickTick: To Do List with Reminder, Day Planner  PRODUCTIVITY     4.6   \n",
      "8658                           ColorNote Notepad Notes  PRODUCTIVITY     4.6   \n",
      "10049        Airway Ex - Intubate. Anesthetize. Train.       MEDICAL     4.3   \n",
      "10768                                             AAFP       MEDICAL     3.8   \n",
      "\n",
      "       Reviews                Size      Installs  Type Price Content Rating  \\\n",
      "229      80805  Varies with device    5,000,000+  Free     0       Everyone   \n",
      "236     159872  Varies with device   10,000,000+  Free     0       Everyone   \n",
      "239      70991  Varies with device    5,000,000+  Free     0       Everyone   \n",
      "256      31614                 37M   10,000,000+  Free     0       Everyone   \n",
      "261       6989  Varies with device    1,000,000+  Free     0       Everyone   \n",
      "...        ...                 ...           ...   ...   ...            ...   \n",
      "8643    404610  Varies with device   10,000,000+  Free     0       Everyone   \n",
      "8654     25370  Varies with device    1,000,000+  Free     0       Everyone   \n",
      "8658   2401017  Varies with device  100,000,000+  Free     0       Everyone   \n",
      "10049      123                 86M       10,000+  Free     0       Everyone   \n",
      "10768       63                 24M       10,000+  Free     0       Everyone   \n",
      "\n",
      "             Genres       Last Updated         Current Ver         Android Ver  \n",
      "229        Business  February 26, 2018  Varies with device        4.0.3 and up  \n",
      "236        Business      July 31, 2018  Varies with device  Varies with device  \n",
      "239        Business      July 24, 2018    2.19.0.204537701          4.4 and up  \n",
      "256        Business      July 20, 2018      4.1.28165.0716          4.0 and up  \n",
      "261        Business      July 16, 2018           4.3.0.508          4.4 and up  \n",
      "...             ...                ...                 ...                 ...  \n",
      "8643   Productivity      April 6, 2018  Varies with device  Varies with device  \n",
      "8654   Productivity     August 6, 2018  Varies with device  Varies with device  \n",
      "8658   Productivity      June 27, 2018  Varies with device  Varies with device  \n",
      "10049       Medical       June 1, 2018              0.6.88          5.0 and up  \n",
      "10768       Medical      June 22, 2018               2.3.1          5.0 and up  \n",
      "\n",
      "[483 rows x 13 columns]\n"
     ]
    }
   ],
   "source": [
    "duplicates = df[df.duplicated()]\n",
    "print(duplicates)"
   ]
  },
  {
   "cell_type": "raw",
   "id": "9dfd0286",
   "metadata": {},
   "source": [
    "As per the data there is no duplicates and as per the logic there is no need to use duplicates in this dataset due to its category."
   ]
  },
  {
   "cell_type": "markdown",
   "id": "c4416958",
   "metadata": {},
   "source": [
    "### Q5. Check the unique categories of the column 'Category', Is there any invalid category? If yes, drop them"
   ]
  },
  {
   "cell_type": "code",
   "execution_count": 9,
   "id": "0ffebc2a",
   "metadata": {},
   "outputs": [
    {
     "data": {
      "text/plain": [
       "array(['ART_AND_DESIGN', 'AUTO_AND_VEHICLES', 'BEAUTY',\n",
       "       'BOOKS_AND_REFERENCE', 'BUSINESS', 'COMICS', 'COMMUNICATION',\n",
       "       'DATING', 'EDUCATION', 'ENTERTAINMENT', 'EVENTS', 'FINANCE',\n",
       "       'FOOD_AND_DRINK', 'HEALTH_AND_FITNESS', 'HOUSE_AND_HOME',\n",
       "       'LIBRARIES_AND_DEMO', 'LIFESTYLE', 'GAME', 'FAMILY', 'MEDICAL',\n",
       "       'SOCIAL', 'SHOPPING', 'PHOTOGRAPHY', 'SPORTS', 'TRAVEL_AND_LOCAL',\n",
       "       'TOOLS', 'PERSONALIZATION', 'PRODUCTIVITY', 'PARENTING', 'WEATHER',\n",
       "       'VIDEO_PLAYERS', 'NEWS_AND_MAGAZINES', 'MAPS_AND_NAVIGATION',\n",
       "       '1.9'], dtype=object)"
      ]
     },
     "execution_count": 9,
     "metadata": {},
     "output_type": "execute_result"
    }
   ],
   "source": [
    "df['Category'].unique()"
   ]
  },
  {
   "cell_type": "code",
   "execution_count": 4,
   "id": "d077d62d",
   "metadata": {},
   "outputs": [
    {
     "data": {
      "text/plain": [
       "Int64Index([10472], dtype='int64')"
      ]
     },
     "execution_count": 4,
     "metadata": {},
     "output_type": "execute_result"
    }
   ],
   "source": [
    "i = df[(df.Category == '1.9')].index\n",
    "i"
   ]
  },
  {
   "cell_type": "code",
   "execution_count": null,
   "id": "30dac7c6",
   "metadata": {},
   "outputs": [],
   "source": [
    "df.drop(i,inplace = True)"
   ]
  },
  {
   "cell_type": "code",
   "execution_count": 69,
   "id": "9793a6f3",
   "metadata": {},
   "outputs": [
    {
     "data": {
      "text/plain": [
       "array(['ART_AND_DESIGN', 'AUTO_AND_VEHICLES', 'BEAUTY',\n",
       "       'BOOKS_AND_REFERENCE', 'BUSINESS', 'COMICS', 'COMMUNICATION',\n",
       "       'DATING', 'EDUCATION', 'ENTERTAINMENT', 'EVENTS', 'FINANCE',\n",
       "       'FOOD_AND_DRINK', 'HEALTH_AND_FITNESS', 'HOUSE_AND_HOME',\n",
       "       'LIBRARIES_AND_DEMO', 'LIFESTYLE', 'GAME', 'FAMILY', 'MEDICAL',\n",
       "       'SOCIAL', 'SHOPPING', 'PHOTOGRAPHY', 'SPORTS', 'TRAVEL_AND_LOCAL',\n",
       "       'TOOLS', 'PERSONALIZATION', 'PRODUCTIVITY', 'PARENTING', 'WEATHER',\n",
       "       'VIDEO_PLAYERS', 'NEWS_AND_MAGAZINES', 'MAPS_AND_NAVIGATION'],\n",
       "      dtype=object)"
      ]
     },
     "execution_count": 69,
     "metadata": {},
     "output_type": "execute_result"
    }
   ],
   "source": [
    "df['Category'].unique()"
   ]
  },
  {
   "cell_type": "raw",
   "id": "ab7baab1",
   "metadata": {},
   "source": [
    "From the above mentioned code we can see that the invalid element has been removed"
   ]
  },
  {
   "cell_type": "markdown",
   "id": "0ef2e7c2",
   "metadata": {},
   "source": [
    "### Q6. Check if there are missing values present in the column Rating, If any? drop them and and create a new column as 'Rating_category' by converting ratings to high and low categories(>3.5 is high rest low)"
   ]
  },
  {
   "cell_type": "code",
   "execution_count": 6,
   "id": "a6f5c2d7",
   "metadata": {},
   "outputs": [
    {
     "data": {
      "text/plain": [
       "App                  0\n",
       "Category             0\n",
       "Rating            1474\n",
       "Reviews              0\n",
       "Size                 0\n",
       "Installs             0\n",
       "Type                 1\n",
       "Price                0\n",
       "Content Rating       0\n",
       "Genres               0\n",
       "Last Updated         0\n",
       "Current Ver          8\n",
       "Android Ver          2\n",
       "dtype: int64"
      ]
     },
     "execution_count": 6,
     "metadata": {},
     "output_type": "execute_result"
    }
   ],
   "source": [
    "df.isnull().sum()"
   ]
  },
  {
   "cell_type": "code",
   "execution_count": 7,
   "id": "ac1b1613",
   "metadata": {},
   "outputs": [
    {
     "data": {
      "text/plain": [
       "App                0.000000\n",
       "Category           0.000000\n",
       "Rating            13.597786\n",
       "Reviews            0.000000\n",
       "Size               0.000000\n",
       "Installs           0.000000\n",
       "Type               0.009225\n",
       "Price              0.000000\n",
       "Content Rating     0.000000\n",
       "Genres             0.000000\n",
       "Last Updated       0.000000\n",
       "Current Ver        0.073801\n",
       "Android Ver        0.018450\n",
       "dtype: float64"
      ]
     },
     "execution_count": 7,
     "metadata": {},
     "output_type": "execute_result"
    }
   ],
   "source": [
    "df.isnull().sum()*100/len(df)"
   ]
  },
  {
   "cell_type": "code",
   "execution_count": null,
   "id": "9b6efd87",
   "metadata": {},
   "outputs": [],
   "source": [
    "df['Rating_Category'] = np.where(df['Rating']>3.5,'High','Low')"
   ]
  },
  {
   "cell_type": "code",
   "execution_count": 9,
   "id": "a049c53c",
   "metadata": {},
   "outputs": [],
   "source": [
    "df.drop('Rating',axis = 1,inplace = True)"
   ]
  },
  {
   "cell_type": "code",
   "execution_count": 10,
   "id": "c3228d16",
   "metadata": {},
   "outputs": [
    {
     "data": {
      "text/html": [
       "<div>\n",
       "<style scoped>\n",
       "    .dataframe tbody tr th:only-of-type {\n",
       "        vertical-align: middle;\n",
       "    }\n",
       "\n",
       "    .dataframe tbody tr th {\n",
       "        vertical-align: top;\n",
       "    }\n",
       "\n",
       "    .dataframe thead th {\n",
       "        text-align: right;\n",
       "    }\n",
       "</style>\n",
       "<table border=\"1\" class=\"dataframe\">\n",
       "  <thead>\n",
       "    <tr style=\"text-align: right;\">\n",
       "      <th></th>\n",
       "      <th>App</th>\n",
       "      <th>Category</th>\n",
       "      <th>Reviews</th>\n",
       "      <th>Size</th>\n",
       "      <th>Installs</th>\n",
       "      <th>Type</th>\n",
       "      <th>Price</th>\n",
       "      <th>Content Rating</th>\n",
       "      <th>Genres</th>\n",
       "      <th>Last Updated</th>\n",
       "      <th>Current Ver</th>\n",
       "      <th>Android Ver</th>\n",
       "      <th>Rating_Category</th>\n",
       "    </tr>\n",
       "  </thead>\n",
       "  <tbody>\n",
       "    <tr>\n",
       "      <th>0</th>\n",
       "      <td>Photo Editor &amp; Candy Camera &amp; Grid &amp; ScrapBook</td>\n",
       "      <td>ART_AND_DESIGN</td>\n",
       "      <td>159</td>\n",
       "      <td>19M</td>\n",
       "      <td>10,000+</td>\n",
       "      <td>Free</td>\n",
       "      <td>0</td>\n",
       "      <td>Everyone</td>\n",
       "      <td>Art &amp; Design</td>\n",
       "      <td>January 7, 2018</td>\n",
       "      <td>1.0.0</td>\n",
       "      <td>4.0.3 and up</td>\n",
       "      <td>High</td>\n",
       "    </tr>\n",
       "    <tr>\n",
       "      <th>1</th>\n",
       "      <td>Coloring book moana</td>\n",
       "      <td>ART_AND_DESIGN</td>\n",
       "      <td>967</td>\n",
       "      <td>14M</td>\n",
       "      <td>500,000+</td>\n",
       "      <td>Free</td>\n",
       "      <td>0</td>\n",
       "      <td>Everyone</td>\n",
       "      <td>Art &amp; Design;Pretend Play</td>\n",
       "      <td>January 15, 2018</td>\n",
       "      <td>2.0.0</td>\n",
       "      <td>4.0.3 and up</td>\n",
       "      <td>High</td>\n",
       "    </tr>\n",
       "    <tr>\n",
       "      <th>2</th>\n",
       "      <td>U Launcher Lite – FREE Live Cool Themes, Hide ...</td>\n",
       "      <td>ART_AND_DESIGN</td>\n",
       "      <td>87510</td>\n",
       "      <td>8.7M</td>\n",
       "      <td>5,000,000+</td>\n",
       "      <td>Free</td>\n",
       "      <td>0</td>\n",
       "      <td>Everyone</td>\n",
       "      <td>Art &amp; Design</td>\n",
       "      <td>August 1, 2018</td>\n",
       "      <td>1.2.4</td>\n",
       "      <td>4.0.3 and up</td>\n",
       "      <td>High</td>\n",
       "    </tr>\n",
       "    <tr>\n",
       "      <th>3</th>\n",
       "      <td>Sketch - Draw &amp; Paint</td>\n",
       "      <td>ART_AND_DESIGN</td>\n",
       "      <td>215644</td>\n",
       "      <td>25M</td>\n",
       "      <td>50,000,000+</td>\n",
       "      <td>Free</td>\n",
       "      <td>0</td>\n",
       "      <td>Teen</td>\n",
       "      <td>Art &amp; Design</td>\n",
       "      <td>June 8, 2018</td>\n",
       "      <td>Varies with device</td>\n",
       "      <td>4.2 and up</td>\n",
       "      <td>High</td>\n",
       "    </tr>\n",
       "    <tr>\n",
       "      <th>4</th>\n",
       "      <td>Pixel Draw - Number Art Coloring Book</td>\n",
       "      <td>ART_AND_DESIGN</td>\n",
       "      <td>967</td>\n",
       "      <td>2.8M</td>\n",
       "      <td>100,000+</td>\n",
       "      <td>Free</td>\n",
       "      <td>0</td>\n",
       "      <td>Everyone</td>\n",
       "      <td>Art &amp; Design;Creativity</td>\n",
       "      <td>June 20, 2018</td>\n",
       "      <td>1.1</td>\n",
       "      <td>4.4 and up</td>\n",
       "      <td>High</td>\n",
       "    </tr>\n",
       "  </tbody>\n",
       "</table>\n",
       "</div>"
      ],
      "text/plain": [
       "                                                 App        Category Reviews  \\\n",
       "0     Photo Editor & Candy Camera & Grid & ScrapBook  ART_AND_DESIGN     159   \n",
       "1                                Coloring book moana  ART_AND_DESIGN     967   \n",
       "2  U Launcher Lite – FREE Live Cool Themes, Hide ...  ART_AND_DESIGN   87510   \n",
       "3                              Sketch - Draw & Paint  ART_AND_DESIGN  215644   \n",
       "4              Pixel Draw - Number Art Coloring Book  ART_AND_DESIGN     967   \n",
       "\n",
       "   Size     Installs  Type Price Content Rating                     Genres  \\\n",
       "0   19M      10,000+  Free     0       Everyone               Art & Design   \n",
       "1   14M     500,000+  Free     0       Everyone  Art & Design;Pretend Play   \n",
       "2  8.7M   5,000,000+  Free     0       Everyone               Art & Design   \n",
       "3   25M  50,000,000+  Free     0           Teen               Art & Design   \n",
       "4  2.8M     100,000+  Free     0       Everyone    Art & Design;Creativity   \n",
       "\n",
       "       Last Updated         Current Ver   Android Ver Rating_Category  \n",
       "0   January 7, 2018               1.0.0  4.0.3 and up            High  \n",
       "1  January 15, 2018               2.0.0  4.0.3 and up            High  \n",
       "2    August 1, 2018               1.2.4  4.0.3 and up            High  \n",
       "3      June 8, 2018  Varies with device    4.2 and up            High  \n",
       "4     June 20, 2018                 1.1    4.4 and up            High  "
      ]
     },
     "execution_count": 10,
     "metadata": {},
     "output_type": "execute_result"
    }
   ],
   "source": [
    "df.head()"
   ]
  },
  {
   "cell_type": "raw",
   "id": "578f3466",
   "metadata": {},
   "source": [
    "From the above mentioned table we can see that, the 'Rating' coloumn has been removed and replaced with 'Rating Category'..."
   ]
  },
  {
   "cell_type": "markdown",
   "id": "458becd4",
   "metadata": {},
   "source": [
    "### Q7.  Check the distribution of the newly created column 'Rating_category' and comment on the distribution."
   ]
  },
  {
   "cell_type": "code",
   "execution_count": 11,
   "id": "357e9410",
   "metadata": {},
   "outputs": [
    {
     "data": {
      "text/plain": [
       "<seaborn.axisgrid.FacetGrid at 0x26f515963d0>"
      ]
     },
     "execution_count": 11,
     "metadata": {},
     "output_type": "execute_result"
    },
    {
     "data": {
      "image/png": "[encoded data removed]",
      "text/plain": [
       "<Figure size 500x500 with 1 Axes>"
      ]
     },
     "metadata": {},
     "output_type": "display_data"
    }
   ],
   "source": [
    "sns.displot(df,x='Rating_Category',kde = True)"
   ]
  },
  {
   "cell_type": "code",
   "execution_count": 12,
   "id": "b72af2a1",
   "metadata": {},
   "outputs": [
    {
     "data": {
      "text/plain": [
       "([<matplotlib.patches.Wedge at 0x26f5169d150>,\n",
       "  <matplotlib.patches.Wedge at 0x26f52f4c710>],\n",
       " [Text(-0.8505642924394327, 0.6975244686941151, 'High'),\n",
       "  Text(0.8505643250929088, -0.6975244288763259, 'Low')],\n",
       " [Text(-0.46394415951241774, 0.38046789201497183, '78.1%'),\n",
       "  Text(0.46394417732340476, -0.38046787029617773, '21.9%')])"
      ]
     },
     "execution_count": 12,
     "metadata": {},
     "output_type": "execute_result"
    },
    {
     "data": {
      "image/png": "[encoded data removed]",
      "text/plain": [
       "<Figure size 640x480 with 1 Axes>"
      ]
     },
     "metadata": {},
     "output_type": "display_data"
    }
   ],
   "source": [
    "z = df['Rating_Category'].value_counts()\n",
    "plt.pie(z,labels = ['High','Low'],autopct = '%0.1f%%')"
   ]
  },
  {
   "cell_type": "raw",
   "id": "4f835bf5",
   "metadata": {},
   "source": [
    "From the above mentioned chart we can see the distribution by using pie, nearly 78% of the value of the rating is been as greater than 3.5 nearly above 8000 rating is been above 3.5 and the low rating is above 2000."
   ]
  },
  {
   "cell_type": "markdown",
   "id": "8af9936c",
   "metadata": {},
   "source": [
    "### Q8.  Convert the column \"Reviews'' to numeric data type and check the presence of outliers in the column and handle the outliers using a transformation approach.(Hint: Use log transformation)"
   ]
  },
  {
   "cell_type": "code",
   "execution_count": 13,
   "id": "43356d17",
   "metadata": {},
   "outputs": [],
   "source": [
    "df['Reviews'] = df['Reviews'].astype(int)"
   ]
  },
  {
   "cell_type": "code",
   "execution_count": 14,
   "id": "ca45792a",
   "metadata": {},
   "outputs": [
    {
     "data": {
      "text/plain": [
       "0           159\n",
       "1           967\n",
       "2         87510\n",
       "3        215644\n",
       "4           967\n",
       "          ...  \n",
       "10836        38\n",
       "10837         4\n",
       "10838         3\n",
       "10839       114\n",
       "10840    398307\n",
       "Name: Reviews, Length: 10840, dtype: int32"
      ]
     },
     "execution_count": 14,
     "metadata": {},
     "output_type": "execute_result"
    }
   ],
   "source": [
    "df['Reviews']"
   ]
  },
  {
   "cell_type": "code",
   "execution_count": 15,
   "id": "2eb4191c",
   "metadata": {},
   "outputs": [
    {
     "data": {
      "text/plain": [
       "<Axes: ylabel='Reviews'>"
      ]
     },
     "execution_count": 15,
     "metadata": {},
     "output_type": "execute_result"
    },
    {
     "data": {
      "image/png": "[encoded data removed]",
      "text/plain": [
       "<Figure size 640x480 with 1 Axes>"
      ]
     },
     "metadata": {},
     "output_type": "display_data"
    }
   ],
   "source": [
    "sns.boxplot(data=df,y = 'Reviews')"
   ]
  },
  {
   "cell_type": "code",
   "execution_count": 16,
   "id": "548571a8",
   "metadata": {},
   "outputs": [
    {
     "data": {
      "text/plain": [
       "1.0"
      ]
     },
     "execution_count": 16,
     "metadata": {},
     "output_type": "execute_result"
    }
   ],
   "source": [
    "df['Reviews'].value_counts('0').sum()"
   ]
  },
  {
   "cell_type": "code",
   "execution_count": 17,
   "id": "35e58b9f",
   "metadata": {},
   "outputs": [
    {
     "name": "stderr",
     "output_type": "stream",
     "text": [
      "C:\\ProgramData\\anaconda3\\Lib\\site-packages\\pandas\\core\\arraylike.py:402: RuntimeWarning: divide by zero encountered in log\n",
      "  result = getattr(ufunc, method)(*inputs, **kwargs)\n"
     ]
    }
   ],
   "source": [
    "df['Reviews'] = np.log(df['Reviews'])"
   ]
  },
  {
   "cell_type": "code",
   "execution_count": 18,
   "id": "a77858e2",
   "metadata": {},
   "outputs": [
    {
     "data": {
      "text/plain": [
       "<Axes: ylabel='Reviews'>"
      ]
     },
     "execution_count": 18,
     "metadata": {},
     "output_type": "execute_result"
    },
    {
     "data": {
      "image/png": "[encoded data removed]",
      "text/plain": [
       "<Figure size 640x480 with 1 Axes>"
      ]
     },
     "metadata": {},
     "output_type": "display_data"
    }
   ],
   "source": [
    "sns.boxplot(data=df,y = 'Reviews')"
   ]
  },
  {
   "cell_type": "raw",
   "id": "e0d0d2d9",
   "metadata": {},
   "source": [
    "From the above mentioned chart we can see that initially we have noticed that there is an high number of outlayers, but after removing the outlayers by using an log transformation now we can see an cleaned box plot for 'Reviews'.\n",
    "    Lower whisker - 0.0\n",
    "    Upeer whisker - above 17.5\n",
    "    median - 7.5"
   ]
  },
  {
   "cell_type": "markdown",
   "id": "191c6ae3",
   "metadata": {},
   "source": [
    "### Q9. The column 'Size' contains alphanumeric values, treat the non numeric data and convert the column into suitable data type. (hint: Replace M with 1 million and K with 1 thousand, and drop the entries where size='Varies with device')"
   ]
  },
  {
   "cell_type": "code",
   "execution_count": 19,
   "id": "583e4d6f",
   "metadata": {},
   "outputs": [
    {
     "data": {
      "text/html": [
       "<div>\n",
       "<style scoped>\n",
       "    .dataframe tbody tr th:only-of-type {\n",
       "        vertical-align: middle;\n",
       "    }\n",
       "\n",
       "    .dataframe tbody tr th {\n",
       "        vertical-align: top;\n",
       "    }\n",
       "\n",
       "    .dataframe thead th {\n",
       "        text-align: right;\n",
       "    }\n",
       "</style>\n",
       "<table border=\"1\" class=\"dataframe\">\n",
       "  <thead>\n",
       "    <tr style=\"text-align: right;\">\n",
       "      <th></th>\n",
       "      <th>App</th>\n",
       "      <th>Category</th>\n",
       "      <th>Reviews</th>\n",
       "      <th>Size</th>\n",
       "      <th>Installs</th>\n",
       "      <th>Type</th>\n",
       "      <th>Price</th>\n",
       "      <th>Content Rating</th>\n",
       "      <th>Genres</th>\n",
       "      <th>Last Updated</th>\n",
       "      <th>Current Ver</th>\n",
       "      <th>Android Ver</th>\n",
       "      <th>Rating_Category</th>\n",
       "    </tr>\n",
       "  </thead>\n",
       "  <tbody>\n",
       "    <tr>\n",
       "      <th>0</th>\n",
       "      <td>Photo Editor &amp; Candy Camera &amp; Grid &amp; ScrapBook</td>\n",
       "      <td>ART_AND_DESIGN</td>\n",
       "      <td>5.068904</td>\n",
       "      <td>19M</td>\n",
       "      <td>10,000+</td>\n",
       "      <td>Free</td>\n",
       "      <td>0</td>\n",
       "      <td>Everyone</td>\n",
       "      <td>Art &amp; Design</td>\n",
       "      <td>January 7, 2018</td>\n",
       "      <td>1.0.0</td>\n",
       "      <td>4.0.3 and up</td>\n",
       "      <td>High</td>\n",
       "    </tr>\n",
       "    <tr>\n",
       "      <th>1</th>\n",
       "      <td>Coloring book moana</td>\n",
       "      <td>ART_AND_DESIGN</td>\n",
       "      <td>6.874198</td>\n",
       "      <td>14M</td>\n",
       "      <td>500,000+</td>\n",
       "      <td>Free</td>\n",
       "      <td>0</td>\n",
       "      <td>Everyone</td>\n",
       "      <td>Art &amp; Design;Pretend Play</td>\n",
       "      <td>January 15, 2018</td>\n",
       "      <td>2.0.0</td>\n",
       "      <td>4.0.3 and up</td>\n",
       "      <td>High</td>\n",
       "    </tr>\n",
       "    <tr>\n",
       "      <th>2</th>\n",
       "      <td>U Launcher Lite – FREE Live Cool Themes, Hide ...</td>\n",
       "      <td>ART_AND_DESIGN</td>\n",
       "      <td>11.379508</td>\n",
       "      <td>8.7M</td>\n",
       "      <td>5,000,000+</td>\n",
       "      <td>Free</td>\n",
       "      <td>0</td>\n",
       "      <td>Everyone</td>\n",
       "      <td>Art &amp; Design</td>\n",
       "      <td>August 1, 2018</td>\n",
       "      <td>1.2.4</td>\n",
       "      <td>4.0.3 and up</td>\n",
       "      <td>High</td>\n",
       "    </tr>\n",
       "    <tr>\n",
       "      <th>3</th>\n",
       "      <td>Sketch - Draw &amp; Paint</td>\n",
       "      <td>ART_AND_DESIGN</td>\n",
       "      <td>12.281384</td>\n",
       "      <td>25M</td>\n",
       "      <td>50,000,000+</td>\n",
       "      <td>Free</td>\n",
       "      <td>0</td>\n",
       "      <td>Teen</td>\n",
       "      <td>Art &amp; Design</td>\n",
       "      <td>June 8, 2018</td>\n",
       "      <td>Varies with device</td>\n",
       "      <td>4.2 and up</td>\n",
       "      <td>High</td>\n",
       "    </tr>\n",
       "    <tr>\n",
       "      <th>4</th>\n",
       "      <td>Pixel Draw - Number Art Coloring Book</td>\n",
       "      <td>ART_AND_DESIGN</td>\n",
       "      <td>6.874198</td>\n",
       "      <td>2.8M</td>\n",
       "      <td>100,000+</td>\n",
       "      <td>Free</td>\n",
       "      <td>0</td>\n",
       "      <td>Everyone</td>\n",
       "      <td>Art &amp; Design;Creativity</td>\n",
       "      <td>June 20, 2018</td>\n",
       "      <td>1.1</td>\n",
       "      <td>4.4 and up</td>\n",
       "      <td>High</td>\n",
       "    </tr>\n",
       "  </tbody>\n",
       "</table>\n",
       "</div>"
      ],
      "text/plain": [
       "                                                 App        Category  \\\n",
       "0     Photo Editor & Candy Camera & Grid & ScrapBook  ART_AND_DESIGN   \n",
       "1                                Coloring book moana  ART_AND_DESIGN   \n",
       "2  U Launcher Lite – FREE Live Cool Themes, Hide ...  ART_AND_DESIGN   \n",
       "3                              Sketch - Draw & Paint  ART_AND_DESIGN   \n",
       "4              Pixel Draw - Number Art Coloring Book  ART_AND_DESIGN   \n",
       "\n",
       "     Reviews  Size     Installs  Type Price Content Rating  \\\n",
       "0   5.068904   19M      10,000+  Free     0       Everyone   \n",
       "1   6.874198   14M     500,000+  Free     0       Everyone   \n",
       "2  11.379508  8.7M   5,000,000+  Free     0       Everyone   \n",
       "3  12.281384   25M  50,000,000+  Free     0           Teen   \n",
       "4   6.874198  2.8M     100,000+  Free     0       Everyone   \n",
       "\n",
       "                      Genres      Last Updated         Current Ver  \\\n",
       "0               Art & Design   January 7, 2018               1.0.0   \n",
       "1  Art & Design;Pretend Play  January 15, 2018               2.0.0   \n",
       "2               Art & Design    August 1, 2018               1.2.4   \n",
       "3               Art & Design      June 8, 2018  Varies with device   \n",
       "4    Art & Design;Creativity     June 20, 2018                 1.1   \n",
       "\n",
       "    Android Ver Rating_Category  \n",
       "0  4.0.3 and up            High  \n",
       "1  4.0.3 and up            High  \n",
       "2  4.0.3 and up            High  \n",
       "3    4.2 and up            High  \n",
       "4    4.4 and up            High  "
      ]
     },
     "execution_count": 19,
     "metadata": {},
     "output_type": "execute_result"
    }
   ],
   "source": [
    "df.head()"
   ]
  },
  {
   "cell_type": "code",
   "execution_count": 20,
   "id": "14936f8b",
   "metadata": {},
   "outputs": [
    {
     "data": {
      "text/plain": [
       "Varies with device    1695\n",
       "11M                    198\n",
       "12M                    196\n",
       "14M                    194\n",
       "13M                    191\n",
       "                      ... \n",
       "430k                     1\n",
       "429k                     1\n",
       "200k                     1\n",
       "460k                     1\n",
       "619k                     1\n",
       "Name: Size, Length: 461, dtype: int64"
      ]
     },
     "execution_count": 20,
     "metadata": {},
     "output_type": "execute_result"
    }
   ],
   "source": [
    "df['Size'].value_counts()"
   ]
  },
  {
   "cell_type": "code",
   "execution_count": 21,
   "id": "37ca1afa",
   "metadata": {},
   "outputs": [],
   "source": [
    "j = df[(df.Size == 'Varies with device')].index"
   ]
  },
  {
   "cell_type": "code",
   "execution_count": 22,
   "id": "1c8d506f",
   "metadata": {},
   "outputs": [],
   "source": [
    "df.drop(j,inplace = True)"
   ]
  },
  {
   "cell_type": "code",
   "execution_count": 23,
   "id": "0590829e",
   "metadata": {},
   "outputs": [
    {
     "data": {
      "text/plain": [
       "11M     198\n",
       "12M     196\n",
       "14M     194\n",
       "13M     191\n",
       "15M     184\n",
       "       ... \n",
       "430k      1\n",
       "429k      1\n",
       "200k      1\n",
       "460k      1\n",
       "619k      1\n",
       "Name: Size, Length: 460, dtype: int64"
      ]
     },
     "execution_count": 23,
     "metadata": {},
     "output_type": "execute_result"
    }
   ],
   "source": [
    "df['Size'].value_counts()"
   ]
  },
  {
   "cell_type": "code",
   "execution_count": 24,
   "id": "124635d5",
   "metadata": {},
   "outputs": [],
   "source": [
    "df['Size'] = df['Size'].str.replace('M','')"
   ]
  },
  {
   "cell_type": "code",
   "execution_count": 71,
   "id": "d47e029c",
   "metadata": {},
   "outputs": [
    {
     "data": {
      "text/plain": [
       "11      198\n",
       "12      196\n",
       "14      194\n",
       "13      191\n",
       "15      184\n",
       "       ... \n",
       "430k      1\n",
       "429k      1\n",
       "200k      1\n",
       "460k      1\n",
       "619k      1\n",
       "Name: Size, Length: 460, dtype: int64"
      ]
     },
     "execution_count": 71,
     "metadata": {},
     "output_type": "execute_result"
    }
   ],
   "source": [
    "df['Size'].value_counts()"
   ]
  },
  {
   "cell_type": "raw",
   "id": "70d24ed5",
   "metadata": {},
   "source": [
    "From the above mentioned work we can see that, initially from the data's from Size i have removed 'Varies with data' and then due to the each digit contains the value 'M' and 'K' so hence i have removed the impurity and i have changed the dataset to integer..."
   ]
  },
  {
   "cell_type": "markdown",
   "id": "721074f1",
   "metadata": {},
   "source": [
    "### Q10. Check the column 'Installs', treat the unwanted characters and convert the column into a suitable data type."
   ]
  },
  {
   "cell_type": "code",
   "execution_count": 26,
   "id": "2495b8d6",
   "metadata": {},
   "outputs": [
    {
     "data": {
      "text/plain": [
       "1,000,000+        1303\n",
       "100,000+          1054\n",
       "10,000+           1011\n",
       "1,000+             873\n",
       "10,000,000+        825\n",
       "100+               702\n",
       "5,000,000+         535\n",
       "500,000+           492\n",
       "5,000+             461\n",
       "50,000+            446\n",
       "10+                376\n",
       "500+               322\n",
       "100,000,000+       201\n",
       "50+                201\n",
       "50,000,000+        147\n",
       "5+                  78\n",
       "1+                  64\n",
       "500,000,000+        30\n",
       "0+                  14\n",
       "1,000,000,000+      10\n",
       "Name: Installs, dtype: int64"
      ]
     },
     "execution_count": 26,
     "metadata": {},
     "output_type": "execute_result"
    }
   ],
   "source": [
    "df['Installs'].value_counts()"
   ]
  },
  {
   "cell_type": "code",
   "execution_count": 27,
   "id": "26ac0655",
   "metadata": {},
   "outputs": [
    {
     "name": "stderr",
     "output_type": "stream",
     "text": [
      "C:\\Users\\MILAN\\AppData\\Local\\Temp\\ipykernel_6924\\2045748454.py:1: FutureWarning: The default value of regex will change from True to False in a future version. In addition, single character regular expressions will *not* be treated as literal strings when regex=True.\n",
      "  df['Installs'] = df['Installs'].str.replace('+','')\n"
     ]
    }
   ],
   "source": [
    "df['Installs'] = df['Installs'].str.replace('+','')"
   ]
  },
  {
   "cell_type": "code",
   "execution_count": 28,
   "id": "75f9b490",
   "metadata": {},
   "outputs": [],
   "source": [
    "df['Installs'] = df['Installs'].str.replace(',','')"
   ]
  },
  {
   "cell_type": "code",
   "execution_count": 29,
   "id": "a4635b3f",
   "metadata": {},
   "outputs": [],
   "source": [
    "df['Installs'] = df['Installs'].astype(int)"
   ]
  },
  {
   "cell_type": "code",
   "execution_count": 72,
   "id": "531a1587",
   "metadata": {},
   "outputs": [
    {
     "data": {
      "text/plain": [
       "0           10000\n",
       "1          500000\n",
       "2         5000000\n",
       "3        50000000\n",
       "4          100000\n",
       "           ...   \n",
       "10835          10\n",
       "10836        5000\n",
       "10837         100\n",
       "10838        1000\n",
       "10840    10000000\n",
       "Name: Installs, Length: 9145, dtype: int32"
      ]
     },
     "execution_count": 72,
     "metadata": {},
     "output_type": "execute_result"
    }
   ],
   "source": [
    "df['Installs']"
   ]
  },
  {
   "cell_type": "raw",
   "id": "eb21010f",
   "metadata": {},
   "source": [
    "From the above mentioned question we can see that, these value contains some invalid characters like '+' So hence i have removed the impurity and i have changed the data type ot Integer for the future needfull."
   ]
  },
  {
   "cell_type": "markdown",
   "id": "d129fffd",
   "metadata": {},
   "source": [
    "### Q11. Check the column 'Price' , remove the unwanted characters and convert the column into a suitable data type."
   ]
  },
  {
   "cell_type": "code",
   "execution_count": 31,
   "id": "6d3a5277",
   "metadata": {},
   "outputs": [
    {
     "data": {
      "text/plain": [
       "0          8421\n",
       "$0.99       145\n",
       "$2.99       114\n",
       "$1.99        66\n",
       "$4.99        65\n",
       "           ... \n",
       "$389.99       1\n",
       "$19.90        1\n",
       "$1.75         1\n",
       "$14.00        1\n",
       "$1.04         1\n",
       "Name: Price, Length: 87, dtype: int64"
      ]
     },
     "execution_count": 31,
     "metadata": {},
     "output_type": "execute_result"
    }
   ],
   "source": [
    "df['Price'].value_counts()"
   ]
  },
  {
   "cell_type": "code",
   "execution_count": 32,
   "id": "8dd50fe6",
   "metadata": {},
   "outputs": [
    {
     "name": "stderr",
     "output_type": "stream",
     "text": [
      "C:\\Users\\MILAN\\AppData\\Local\\Temp\\ipykernel_6924\\1580091000.py:1: FutureWarning: The default value of regex will change from True to False in a future version. In addition, single character regular expressions will *not* be treated as literal strings when regex=True.\n",
      "  df['Price'] = df['Price'].str.replace('$','')\n"
     ]
    }
   ],
   "source": [
    "df['Price'] = df['Price'].str.replace('$','')"
   ]
  },
  {
   "cell_type": "code",
   "execution_count": 33,
   "id": "8894b78d",
   "metadata": {},
   "outputs": [],
   "source": [
    "df['Price'] = df['Price'].astype(float)"
   ]
  },
  {
   "cell_type": "raw",
   "id": "c932fc0a",
   "metadata": {},
   "source": [
    "From the above mentioned question we can see that, these value contains some invalid characters like '$' So hence i have removed the impurity and i have changed the data type ot Float for the future needfull."
   ]
  },
  {
   "cell_type": "markdown",
   "id": "f173bead",
   "metadata": {},
   "source": [
    "## Q12. Drop the columns which you think redundant for the analysis.(suggestion: drop column 'rating', since we created a new feature from it (i.e. rating_category) and the columns 'App', 'Rating' ,'Genres','Last Updated', 'Current Ver','Android Ver' columns since which are redundant for our analysis)"
   ]
  },
  {
   "cell_type": "code",
   "execution_count": 34,
   "id": "ea11d580",
   "metadata": {},
   "outputs": [],
   "source": [
    "df.drop('Android Ver',inplace = True,axis = 1)"
   ]
  },
  {
   "cell_type": "code",
   "execution_count": 36,
   "id": "0383f4c2",
   "metadata": {},
   "outputs": [],
   "source": [
    "df.drop('Current Ver',inplace = True,axis = 1)"
   ]
  },
  {
   "cell_type": "code",
   "execution_count": 37,
   "id": "17f80f0a",
   "metadata": {},
   "outputs": [],
   "source": [
    "df.drop('Last Updated',inplace = True,axis = 1)"
   ]
  },
  {
   "cell_type": "code",
   "execution_count": 39,
   "id": "335e1201",
   "metadata": {},
   "outputs": [
    {
     "name": "stdout",
     "output_type": "stream",
     "text": [
      "<class 'pandas.core.frame.DataFrame'>\n",
      "Int64Index: 9145 entries, 0 to 10840\n",
      "Data columns (total 10 columns):\n",
      " #   Column           Non-Null Count  Dtype  \n",
      "---  ------           --------------  -----  \n",
      " 0   App              9145 non-null   object \n",
      " 1   Category         9145 non-null   object \n",
      " 2   Reviews          9145 non-null   float64\n",
      " 3   Size             9145 non-null   object \n",
      " 4   Installs         9145 non-null   int32  \n",
      " 5   Type             9145 non-null   object \n",
      " 6   Price            9145 non-null   float64\n",
      " 7   Content Rating   9145 non-null   object \n",
      " 8   Genres           9145 non-null   object \n",
      " 9   Rating_Category  9145 non-null   object \n",
      "dtypes: float64(2), int32(1), object(7)\n",
      "memory usage: 750.2+ KB\n"
     ]
    }
   ],
   "source": [
    "df.info()"
   ]
  },
  {
   "cell_type": "raw",
   "id": "a52984a4",
   "metadata": {},
   "source": [
    "From the above mentioned work we can see that, i have removed, Andriod Version, current version and last updated because its been categorial because there is all the apps are for andriod since there is no useful data but calculating andriod version so hence i have removed the data from teh above metioned table..."
   ]
  },
  {
   "cell_type": "markdown",
   "id": "1ebd9a7b",
   "metadata": {},
   "source": [
    "## Q13. Encode the categorical columns"
   ]
  },
  {
   "cell_type": "code",
   "execution_count": 40,
   "id": "ecdd236f",
   "metadata": {},
   "outputs": [
    {
     "data": {
      "text/html": [
       "<div>\n",
       "<style scoped>\n",
       "    .dataframe tbody tr th:only-of-type {\n",
       "        vertical-align: middle;\n",
       "    }\n",
       "\n",
       "    .dataframe tbody tr th {\n",
       "        vertical-align: top;\n",
       "    }\n",
       "\n",
       "    .dataframe thead th {\n",
       "        text-align: right;\n",
       "    }\n",
       "</style>\n",
       "<table border=\"1\" class=\"dataframe\">\n",
       "  <thead>\n",
       "    <tr style=\"text-align: right;\">\n",
       "      <th></th>\n",
       "      <th>App</th>\n",
       "      <th>Category</th>\n",
       "      <th>Reviews</th>\n",
       "      <th>Size</th>\n",
       "      <th>Installs</th>\n",
       "      <th>Type</th>\n",
       "      <th>Price</th>\n",
       "      <th>Content Rating</th>\n",
       "      <th>Genres</th>\n",
       "      <th>Rating_Category</th>\n",
       "    </tr>\n",
       "  </thead>\n",
       "  <tbody>\n",
       "    <tr>\n",
       "      <th>0</th>\n",
       "      <td>Photo Editor &amp; Candy Camera &amp; Grid &amp; ScrapBook</td>\n",
       "      <td>ART_AND_DESIGN</td>\n",
       "      <td>5.068904</td>\n",
       "      <td>19</td>\n",
       "      <td>10000</td>\n",
       "      <td>Free</td>\n",
       "      <td>0.0</td>\n",
       "      <td>Everyone</td>\n",
       "      <td>Art &amp; Design</td>\n",
       "      <td>High</td>\n",
       "    </tr>\n",
       "    <tr>\n",
       "      <th>1</th>\n",
       "      <td>Coloring book moana</td>\n",
       "      <td>ART_AND_DESIGN</td>\n",
       "      <td>6.874198</td>\n",
       "      <td>14</td>\n",
       "      <td>500000</td>\n",
       "      <td>Free</td>\n",
       "      <td>0.0</td>\n",
       "      <td>Everyone</td>\n",
       "      <td>Art &amp; Design;Pretend Play</td>\n",
       "      <td>High</td>\n",
       "    </tr>\n",
       "    <tr>\n",
       "      <th>2</th>\n",
       "      <td>U Launcher Lite – FREE Live Cool Themes, Hide ...</td>\n",
       "      <td>ART_AND_DESIGN</td>\n",
       "      <td>11.379508</td>\n",
       "      <td>8.7</td>\n",
       "      <td>5000000</td>\n",
       "      <td>Free</td>\n",
       "      <td>0.0</td>\n",
       "      <td>Everyone</td>\n",
       "      <td>Art &amp; Design</td>\n",
       "      <td>High</td>\n",
       "    </tr>\n",
       "    <tr>\n",
       "      <th>3</th>\n",
       "      <td>Sketch - Draw &amp; Paint</td>\n",
       "      <td>ART_AND_DESIGN</td>\n",
       "      <td>12.281384</td>\n",
       "      <td>25</td>\n",
       "      <td>50000000</td>\n",
       "      <td>Free</td>\n",
       "      <td>0.0</td>\n",
       "      <td>Teen</td>\n",
       "      <td>Art &amp; Design</td>\n",
       "      <td>High</td>\n",
       "    </tr>\n",
       "    <tr>\n",
       "      <th>4</th>\n",
       "      <td>Pixel Draw - Number Art Coloring Book</td>\n",
       "      <td>ART_AND_DESIGN</td>\n",
       "      <td>6.874198</td>\n",
       "      <td>2.8</td>\n",
       "      <td>100000</td>\n",
       "      <td>Free</td>\n",
       "      <td>0.0</td>\n",
       "      <td>Everyone</td>\n",
       "      <td>Art &amp; Design;Creativity</td>\n",
       "      <td>High</td>\n",
       "    </tr>\n",
       "  </tbody>\n",
       "</table>\n",
       "</div>"
      ],
      "text/plain": [
       "                                                 App        Category  \\\n",
       "0     Photo Editor & Candy Camera & Grid & ScrapBook  ART_AND_DESIGN   \n",
       "1                                Coloring book moana  ART_AND_DESIGN   \n",
       "2  U Launcher Lite – FREE Live Cool Themes, Hide ...  ART_AND_DESIGN   \n",
       "3                              Sketch - Draw & Paint  ART_AND_DESIGN   \n",
       "4              Pixel Draw - Number Art Coloring Book  ART_AND_DESIGN   \n",
       "\n",
       "     Reviews Size  Installs  Type  Price Content Rating  \\\n",
       "0   5.068904   19     10000  Free    0.0       Everyone   \n",
       "1   6.874198   14    500000  Free    0.0       Everyone   \n",
       "2  11.379508  8.7   5000000  Free    0.0       Everyone   \n",
       "3  12.281384   25  50000000  Free    0.0           Teen   \n",
       "4   6.874198  2.8    100000  Free    0.0       Everyone   \n",
       "\n",
       "                      Genres Rating_Category  \n",
       "0               Art & Design            High  \n",
       "1  Art & Design;Pretend Play            High  \n",
       "2               Art & Design            High  \n",
       "3               Art & Design            High  \n",
       "4    Art & Design;Creativity            High  "
      ]
     },
     "execution_count": 40,
     "metadata": {},
     "output_type": "execute_result"
    }
   ],
   "source": [
    "#df = pd.get_dummies(df, columns=['Type'])\n",
    "df.head()"
   ]
  },
  {
   "cell_type": "code",
   "execution_count": 41,
   "id": "adc36608",
   "metadata": {},
   "outputs": [
    {
     "data": {
      "text/plain": [
       "Everyone           7416\n",
       "Teen                987\n",
       "Mature 17+          406\n",
       "Everyone 10+        332\n",
       "Adults only 18+       2\n",
       "Unrated               2\n",
       "Name: Content Rating, dtype: int64"
      ]
     },
     "execution_count": 41,
     "metadata": {},
     "output_type": "execute_result"
    }
   ],
   "source": [
    "df['Content Rating'].value_counts()"
   ]
  },
  {
   "cell_type": "code",
   "execution_count": 42,
   "id": "6fb89e8e",
   "metadata": {},
   "outputs": [],
   "source": [
    "df = pd.get_dummies(df, columns=['Content Rating'])"
   ]
  },
  {
   "cell_type": "code",
   "execution_count": 43,
   "id": "9ff0dd5a",
   "metadata": {},
   "outputs": [],
   "source": [
    "df.drop('Content Rating_Unrated',axis = 1,inplace = True)"
   ]
  },
  {
   "cell_type": "code",
   "execution_count": 45,
   "id": "eee4b6e1",
   "metadata": {},
   "outputs": [
    {
     "name": "stdout",
     "output_type": "stream",
     "text": [
      "<class 'pandas.core.frame.DataFrame'>\n",
      "Int64Index: 9145 entries, 0 to 10840\n",
      "Data columns (total 14 columns):\n",
      " #   Column                          Non-Null Count  Dtype  \n",
      "---  ------                          --------------  -----  \n",
      " 0   App                             9145 non-null   object \n",
      " 1   Category                        9145 non-null   object \n",
      " 2   Reviews                         9145 non-null   float64\n",
      " 3   Size                            9145 non-null   object \n",
      " 4   Installs                        9145 non-null   int32  \n",
      " 5   Type                            9145 non-null   object \n",
      " 6   Price                           9145 non-null   float64\n",
      " 7   Genres                          9145 non-null   object \n",
      " 8   Rating_Category                 9145 non-null   object \n",
      " 9   Content Rating_Adults only 18+  9145 non-null   uint8  \n",
      " 10  Content Rating_Everyone         9145 non-null   uint8  \n",
      " 11  Content Rating_Everyone 10+     9145 non-null   uint8  \n",
      " 12  Content Rating_Mature 17+       9145 non-null   uint8  \n",
      " 13  Content Rating_Teen             9145 non-null   uint8  \n",
      "dtypes: float64(2), int32(1), object(6), uint8(5)\n",
      "memory usage: 723.4+ KB\n"
     ]
    }
   ],
   "source": [
    "df.info()"
   ]
  },
  {
   "cell_type": "code",
   "execution_count": 53,
   "id": "39082d79",
   "metadata": {},
   "outputs": [
    {
     "data": {
      "text/plain": [
       "Free    8421\n",
       "Paid     724\n",
       "Name: Type, dtype: int64"
      ]
     },
     "execution_count": 53,
     "metadata": {},
     "output_type": "execute_result"
    }
   ],
   "source": [
    "df['Type'].value_counts()"
   ]
  },
  {
   "cell_type": "code",
   "execution_count": null,
   "id": "1fcea619",
   "metadata": {},
   "outputs": [],
   "source": [
    "df = pd.get_dummies(df, columns=['Type'])"
   ]
  },
  {
   "cell_type": "code",
   "execution_count": null,
   "id": "46a407a0",
   "metadata": {},
   "outputs": [],
   "source": [
    "df.drop('Type_Paid',axis = 1,inplace = True)"
   ]
  },
  {
   "cell_type": "markdown",
   "id": "c15ede92",
   "metadata": {},
   "source": [
    "## Q14. Segregate the target and independent features"
   ]
  },
  {
   "cell_type": "code",
   "execution_count": 62,
   "id": "f667af44",
   "metadata": {},
   "outputs": [],
   "source": [
    "target_var = df['Rating_Category']"
   ]
  },
  {
   "cell_type": "code",
   "execution_count": null,
   "id": "9d28055c",
   "metadata": {},
   "outputs": [],
   "source": [
    "Independent_var = df.drop(target_var,axis = 1)"
   ]
  }
 ],
 "metadata": {
  "kernelspec": {
   "display_name": "Python 3 (ipykernel)",
   "language": "python",
   "name": "python3"
  },
  "language_info": {
   "codemirror_mode": {
    "name": "ipython",
    "version": 3
   },
   "file_extension": ".py",
   "mimetype": "text/x-python",
   "name": "python",
   "nbconvert_exporter": "python",
   "pygments_lexer": "ipython3",
   "version": "3.11.4"
  }
 },
 "nbformat": 4,
 "nbformat_minor": 5
}
